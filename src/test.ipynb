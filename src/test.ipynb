{
 "cells": [
  {
   "cell_type": "code",
   "execution_count": 1,
   "id": "8666cbcd",
   "metadata": {},
   "outputs": [
    {
     "data": {
      "text/plain": [
       "\"Human: Hello, how are you?\\nAI: I'm doing well, thank you! How can I assist you today?\\nHuman: Can you tell me a joke?\\nAI: Sure! Why don't scientists trust atoms? Because they make up everything!\""
      ]
     },
     "execution_count": 1,
     "metadata": {},
     "output_type": "execute_result"
    }
   ],
   "source": [
    "from langchain_core.messages import HumanMessage, AIMessage, get_buffer_string\n",
    "\n",
    "messages = [\n",
    "    HumanMessage(content=\"Hello, how are you?\"),\n",
    "    AIMessage(content=\"I'm doing well, thank you! How can I assist you today?\"),\n",
    "    HumanMessage(content=\"Can you tell me a joke?\"),\n",
    "    AIMessage(content=\"Sure! Why don't scientists trust atoms? Because they make up everything!\"),\n",
    "]\n",
    "get_buffer_string(messages)"
   ]
  },
  {
   "cell_type": "code",
   "execution_count": 3,
   "id": "48003251",
   "metadata": {},
   "outputs": [
    {
     "data": {
      "text/plain": [
       "[]"
      ]
     },
     "execution_count": 3,
     "metadata": {},
     "output_type": "execute_result"
    }
   ],
   "source": [
    "messages[1].tool_calls"
   ]
  }
 ],
 "metadata": {
  "kernelspec": {
   "display_name": "agents",
   "language": "python",
   "name": "python3"
  },
  "language_info": {
   "codemirror_mode": {
    "name": "ipython",
    "version": 3
   },
   "file_extension": ".py",
   "mimetype": "text/x-python",
   "name": "python",
   "nbconvert_exporter": "python",
   "pygments_lexer": "ipython3",
   "version": "3.10.18"
  }
 },
 "nbformat": 4,
 "nbformat_minor": 5
}
